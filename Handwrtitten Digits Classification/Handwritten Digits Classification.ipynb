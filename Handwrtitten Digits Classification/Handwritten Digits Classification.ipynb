{
 "cells": [
  {
   "cell_type": "markdown",
   "id": "af3eb48e",
   "metadata": {},
   "source": [
    "## Handwritten Digits Classification\n",
    "### Using Multilayer Perceptron"
   ]
  },
  {
   "cell_type": "code",
   "execution_count": 5,
   "id": "b6331620",
   "metadata": {},
   "outputs": [],
   "source": [
    "import keras\n",
    "from keras.datasets import mnist\n"
   ]
  },
  {
   "cell_type": "code",
   "execution_count": 7,
   "id": "c811349b",
   "metadata": {},
   "outputs": [
    {
     "name": "stdout",
     "output_type": "stream",
     "text": [
      "Training set shape:  (60000, 28, 28)\n",
      "Length of training set:  60000\n",
      "Testing set shape:  (10000, 28, 28)\n",
      "Length of testing set:  10000\n"
     ]
    }
   ],
   "source": [
    "# load the dataset\n",
    "(train_images, train_labels), (test_images, test_labels) = mnist.load_data()\n",
    "\n",
    "#about \n",
    "print('Training set shape: ',train_images.shape)\n",
    "print('Length of training set: ', len(train_labels))\n",
    "\n",
    "print('Testing set shape: ', test_images.shape)\n",
    "print('Length of testing set: ', len(test_labels))"
   ]
  },
  {
   "cell_type": "markdown",
   "id": "65f418dc",
   "metadata": {},
   "source": [
    "### Workflow\n",
    "- Present the neural network with the training data, `train_images` and `train_labels`.\n",
    "> The network will then learn to associate images and labels.\n",
    "- Finally we ask the network to produce predictions for `test_images`, and we will verify these predictions by matching them with the labels from `test_labels`."
   ]
  },
  {
   "cell_type": "markdown",
   "id": "ea0ef9c6",
   "metadata": {},
   "source": [
    "The 'layer' is a data-processing module which can also be percieved as a 'filter' for data.\n",
    "\n",
    "- Our network consists of a sequence of two `Dense` layers, which are densly connectedneural layers( fully-connected ).\n",
    "- The 2nd layer is a 10 way 'softmax' layer, which means it will return an array of 10 probability scores.\n",
    "- Each score will be the probability that the current digit belongs to one of the 10 digit classes.\n",
    "\n",
    "We also need to define:\n",
    "- A `loss function`\n",
    "- An `optimizer`\n",
    "- `Metrics`"
   ]
  },
  {
   "cell_type": "code",
   "execution_count": 11,
   "id": "c039f916",
   "metadata": {},
   "outputs": [],
   "source": [
    "from keras import models, layers\n",
    "\n",
    "network = models.Sequential()\n",
    "network.add(layers.Dense(512, activation='relu', input_shape=(28*28,)))\n",
    "network.add(layers.Dense(10, activation='softmax'))\n",
    "\n",
    "network.compile(optimizer = 'rmsprop',\n",
    "               loss = 'categorical_crossentropy',\n",
    "               metrics = ['accuracy'])"
   ]
  },
  {
   "cell_type": "markdown",
   "id": "3d224e5f",
   "metadata": {},
   "source": [
    "### Preprocessing and Reshaping\n",
    "We scale our data so that all values are in the `[0, 1]` interval.\n",
    "\n",
    "Previously, training images were stored in an array of shape `(60000, 28, 28)` of type `uint8` with values in `[0, 255]` interval.\n",
    "We transform it into a `float32` array of shape `(60000, 28*28)` with values between 0 and 1."
   ]
  },
  {
   "cell_type": "code",
   "execution_count": 12,
   "id": "9b1177c8",
   "metadata": {},
   "outputs": [],
   "source": [
    "train_images = train_images.reshape((60000, 28*28))\n",
    "train_images = train_images.astype('float32')/255\n",
    "\n",
    "test_images = test_images.reshape((10000, 28*28))\n",
    "test_images = test_images.astype('float32')/255"
   ]
  },
  {
   "cell_type": "markdown",
   "id": "2554c326",
   "metadata": {},
   "source": [
    "We also categorically encode the labels:"
   ]
  },
  {
   "cell_type": "code",
   "execution_count": 14,
   "id": "dadd45d4",
   "metadata": {},
   "outputs": [],
   "source": [
    "from keras.utils import to_categorical\n",
    "\n",
    "train_labels = to_categorical(train_labels)\n",
    "test_labels = to_categorical(test_labels)"
   ]
  },
  {
   "cell_type": "markdown",
   "id": "6432407f",
   "metadata": {},
   "source": [
    "### Training the network\n",
    "We call the `fit` method to train the network i.e, we 'fit' the model to its training data.\n",
    "\n",
    "During training two quantities are displayed:\n",
    "- 'Loss' of the network over the training data\n",
    "- 'Accuracy' of the network over the training data"
   ]
  },
  {
   "cell_type": "code",
   "execution_count": 17,
   "id": "a827b094",
   "metadata": {},
   "outputs": [
    {
     "name": "stdout",
     "output_type": "stream",
     "text": [
      "Epoch 1/6\n",
      "469/469 [==============================] - 4s 9ms/step - loss: 0.0290 - accuracy: 0.9912\n",
      "Epoch 2/6\n",
      "469/469 [==============================] - 4s 9ms/step - loss: 0.0216 - accuracy: 0.9939\n",
      "Epoch 3/6\n",
      "469/469 [==============================] - 4s 9ms/step - loss: 0.0169 - accuracy: 0.9953\n",
      "Epoch 4/6\n",
      "469/469 [==============================] - 4s 9ms/step - loss: 0.0128 - accuracy: 0.9964\n",
      "Epoch 5/6\n",
      "469/469 [==============================] - 4s 9ms/step - loss: 0.0095 - accuracy: 0.9977\n",
      "Epoch 6/6\n",
      "469/469 [==============================] - 6s 12ms/step - loss: 0.0071 - accuracy: 0.9984\n"
     ]
    },
    {
     "data": {
      "text/plain": [
       "<keras.src.callbacks.History at 0x1da1bab3a60>"
      ]
     },
     "execution_count": 17,
     "metadata": {},
     "output_type": "execute_result"
    }
   ],
   "source": [
    "network.fit(train_images, train_labels, epochs=6, batch_size=128)"
   ]
  },
  {
   "cell_type": "markdown",
   "id": "ce5bbccb",
   "metadata": {},
   "source": [
    "We reached an accuracy of `0.9984( i.e, 99.8% )` on the training data.\n",
    "Now check the model's performance on testing data too."
   ]
  },
  {
   "cell_type": "code",
   "execution_count": 18,
   "id": "0988fd62",
   "metadata": {},
   "outputs": [
    {
     "name": "stdout",
     "output_type": "stream",
     "text": [
      "313/313 [==============================] - 2s 5ms/step - loss: 0.0689 - accuracy: 0.9809\n"
     ]
    }
   ],
   "source": [
    "test_loss, test_acc = network.evaluate(test_images, test_labels)"
   ]
  },
  {
   "cell_type": "markdown",
   "id": "5077fe7f",
   "metadata": {},
   "source": [
    "Our test set accuracy turns out to be `98.09%`, which is slightly less than the training set accuracy."
   ]
  }
 ],
 "metadata": {
  "kernelspec": {
   "display_name": "Python 3 (ipykernel)",
   "language": "python",
   "name": "python3"
  },
  "language_info": {
   "codemirror_mode": {
    "name": "ipython",
    "version": 3
   },
   "file_extension": ".py",
   "mimetype": "text/x-python",
   "name": "python",
   "nbconvert_exporter": "python",
   "pygments_lexer": "ipython3",
   "version": "3.9.13"
  }
 },
 "nbformat": 4,
 "nbformat_minor": 5
}
