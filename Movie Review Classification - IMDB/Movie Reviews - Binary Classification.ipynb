{
 "cells": [
  {
   "cell_type": "markdown",
   "id": "1d6a4573",
   "metadata": {},
   "source": [
    "## Movie Reviews Classification\n",
    "### Binary Classification using IMDB Dataset"
   ]
  },
  {
   "cell_type": "code",
   "execution_count": 2,
   "id": "10c22931",
   "metadata": {},
   "outputs": [],
   "source": [
    "from keras.datasets import imdb\n",
    "\n",
    "(train_data, train_labels), (test_data, test_labels) = imdb.load_data(num_words = 10000)"
   ]
  },
  {
   "cell_type": "markdown",
   "id": "b8467efd",
   "metadata": {},
   "source": [
    "The argument `num_words = 10000` means that we will only keep the top 10,000 most frequently occurring words in the training data.\n",
    "\n",
    "The variables `train_data` and `test_data` are list of reviews, each review being a list of word indices.\n",
    "\n",
    "`train_labels` and `test_labels` are lists of 0s(negative) and 1s(positive)."
   ]
  },
  {
   "cell_type": "markdown",
   "id": "b4edfa8c",
   "metadata": {},
   "source": [
    "#### Decoding review back to english words"
   ]
  },
  {
   "cell_type": "code",
   "execution_count": 7,
   "id": "106f72db",
   "metadata": {},
   "outputs": [
    {
     "data": {
      "text/plain": [
       "\"? this film was just brilliant casting location scenery story direction everyone's really suited the part they played and you could just imagine being there robert ? is an amazing actor and now the same being director ? father came from the same scottish island as myself so i loved the fact there was a real connection with this film the witty remarks throughout the film were great it was just brilliant so much that i bought the film as soon as it was released for ? and would recommend it to everyone to watch and the fly fishing was amazing really cried at the end it was so sad and you know what they say if you cry at a film it must have been good and this definitely was also ? to the two little boy's that played the ? of norman and paul they were just brilliant children are often left out of the ? list i think because the stars that play them all grown up are such a big profile for the whole film but these children are amazing and should be praised for what they have done don't you think the whole story was so lovely because it was true and was someone's life after all that was shared with us all\""
      ]
     },
     "execution_count": 7,
     "metadata": {},
     "output_type": "execute_result"
    }
   ],
   "source": [
    "word_index = imdb.get_word_index()\n",
    "reverse_word_index = dict([(value, key) for (key, value) in word_index.items()])\n",
    "\n",
    "decoded_review = ' '.join([reverse_word_index.get(i-3, '?') for i in train_data[0]])\n",
    "\n",
    "decoded_review"
   ]
  },
  {
   "cell_type": "markdown",
   "id": "7ee8e33d",
   "metadata": {},
   "source": [
    "### Preparing the data\n",
    "\n",
    "We need to turn the lists into tensors. There are 2 ways to do this:\n",
    "- Pad our lists so they all have the same length, and turn them into an integer tensor of shape `(samples, word_indices)`, then use as first layer in our network a layer capable of handling such integer tensors.\n",
    "- One-hot-encode our lists to turn them into vectors of 0s and 1s, then we could use as first layer in our network a Dense layer, capable of handling floating point vector data.\n",
    "\n",
    "We will go with the second approach by vecotrizing the data."
   ]
  },
  {
   "cell_type": "code",
   "execution_count": 9,
   "id": "d3d67e4f",
   "metadata": {},
   "outputs": [
    {
     "data": {
      "text/plain": [
       "array([0., 1., 1., ..., 0., 0., 0.])"
      ]
     },
     "execution_count": 9,
     "metadata": {},
     "output_type": "execute_result"
    }
   ],
   "source": [
    "import numpy as np\n",
    "\n",
    "def vectorize_sequences(sequences, dimension = 10000):\n",
    "    # create all-0 matrix\n",
    "    results = np.zeros((len(sequences), dimension))\n",
    "    for i, sequence in enumerate(sequences):\n",
    "        results[i, sequence] = 1\n",
    "    return results\n",
    "\n",
    "# vectorized training data\n",
    "x_train = vectorize_sequences(train_data)\n",
    "\n",
    "#vectorize test data\n",
    "x_test = vectorize_sequences(test_data)\n",
    "\n",
    "x_train[0]"
   ]
  },
  {
   "cell_type": "markdown",
   "id": "be69d41d",
   "metadata": {},
   "source": [
    "#### Vectorizing labels"
   ]
  },
  {
   "cell_type": "code",
   "execution_count": 10,
   "id": "85182d21",
   "metadata": {},
   "outputs": [],
   "source": [
    "y_train = np.asarray(train_labels).astype('float32')\n",
    "y_test = np.asarray(test_labels).astype('float32')"
   ]
  },
  {
   "cell_type": "markdown",
   "id": "bad6e64f",
   "metadata": {},
   "source": [
    "### Building the network\n",
    "\n",
    "#### Network Architecture\n",
    "\n",
    "- 2 immediate layers with 16 hidden units each\n",
    "- Third layer will output the scalar prediction regarding the sentiment of the current review.\n",
    "- The intermediate layers will use `relu` as the 'activation function'.\n",
    "- The final layer will use a `sigmoid activation` function to output the probability."
   ]
  },
  {
   "cell_type": "code",
   "execution_count": 12,
   "id": "4d9a387f",
   "metadata": {},
   "outputs": [],
   "source": [
    "from keras import models, layers\n",
    "\n",
    "model = models.Sequential()\n",
    "model.add(layers.Dense(16, activation = 'relu', input_shape = (10000,)))\n",
    "model.add(layers.Dense(16, activation = 'relu'))\n",
    "model.add(layers.Dense(1, activation = 'sigmoid'))"
   ]
  },
  {
   "cell_type": "code",
   "execution_count": 15,
   "id": "f731bd73",
   "metadata": {},
   "outputs": [],
   "source": [
    "model.compile(optimizer = 'rmsprop',\n",
    "             loss = 'binary_crossentropy',\n",
    "             metrics = ['accuracy'])"
   ]
  },
  {
   "cell_type": "code",
   "execution_count": 17,
   "id": "ee33cee2",
   "metadata": {},
   "outputs": [],
   "source": [
    "# passing custom loss function or metrics\n",
    "from keras import losses, optimizers, metrics\n",
    "\n",
    "model.compile(optimizer = optimizers.RMSprop(learning_rate = 0.001),\n",
    "             loss = losses.binary_crossentropy,\n",
    "             metrics = [metrics.binary_accuracy])"
   ]
  },
  {
   "cell_type": "markdown",
   "id": "baf9313a",
   "metadata": {},
   "source": [
    "### Validating our approach\n",
    "\n",
    "To monitor the accuracy of the model during training on the data it has never seen before, we create a `validation set` by setting apart 10,000 samples from the original training data:"
   ]
  },
  {
   "cell_type": "code",
   "execution_count": 18,
   "id": "05619b2b",
   "metadata": {},
   "outputs": [],
   "source": [
    "x_val = x_train[:10000]\n",
    "partial_x_train = x_train[10000:]\n",
    "\n",
    "y_val = y_train[:10000]\n",
    "partial_y_train = y_train[10000:]"
   ]
  },
  {
   "cell_type": "markdown",
   "id": "5aa4cae2",
   "metadata": {},
   "source": [
    "Now train our model for 20 epochs, in mini-batches of 512 samples.\n",
    "\n",
    "We will also monitor loss and accuracy on the 10,000 samples we set apart. This is done by passing the validation data as the `validation_data` argument."
   ]
  },
  {
   "cell_type": "code",
   "execution_count": 19,
   "id": "e13079aa",
   "metadata": {},
   "outputs": [
    {
     "name": "stdout",
     "output_type": "stream",
     "text": [
      "Epoch 1/20\n",
      "WARNING:tensorflow:From C:\\Users\\sushm\\anaconda3\\lib\\site-packages\\keras\\src\\utils\\tf_utils.py:492: The name tf.ragged.RaggedTensorValue is deprecated. Please use tf.compat.v1.ragged.RaggedTensorValue instead.\n",
      "\n"
     ]
    },
    {
     "name": "stderr",
     "output_type": "stream",
     "text": [
      "WARNING:tensorflow:From C:\\Users\\sushm\\anaconda3\\lib\\site-packages\\keras\\src\\utils\\tf_utils.py:492: The name tf.ragged.RaggedTensorValue is deprecated. Please use tf.compat.v1.ragged.RaggedTensorValue instead.\n",
      "\n"
     ]
    },
    {
     "name": "stdout",
     "output_type": "stream",
     "text": [
      "WARNING:tensorflow:From C:\\Users\\sushm\\anaconda3\\lib\\site-packages\\keras\\src\\engine\\base_layer_utils.py:384: The name tf.executing_eagerly_outside_functions is deprecated. Please use tf.compat.v1.executing_eagerly_outside_functions instead.\n",
      "\n"
     ]
    },
    {
     "name": "stderr",
     "output_type": "stream",
     "text": [
      "WARNING:tensorflow:From C:\\Users\\sushm\\anaconda3\\lib\\site-packages\\keras\\src\\engine\\base_layer_utils.py:384: The name tf.executing_eagerly_outside_functions is deprecated. Please use tf.compat.v1.executing_eagerly_outside_functions instead.\n",
      "\n"
     ]
    },
    {
     "name": "stdout",
     "output_type": "stream",
     "text": [
      "30/30 [==============================] - 10s 209ms/step - loss: 0.4998 - binary_accuracy: 0.7931 - val_loss: 0.3801 - val_binary_accuracy: 0.8670\n",
      "Epoch 2/20\n",
      "30/30 [==============================] - 1s 39ms/step - loss: 0.3092 - binary_accuracy: 0.8977 - val_loss: 0.3313 - val_binary_accuracy: 0.8687\n",
      "Epoch 3/20\n",
      "30/30 [==============================] - 1s 23ms/step - loss: 0.2330 - binary_accuracy: 0.9223 - val_loss: 0.3166 - val_binary_accuracy: 0.8686\n",
      "Epoch 4/20\n",
      "30/30 [==============================] - 1s 25ms/step - loss: 0.1910 - binary_accuracy: 0.9362 - val_loss: 0.2886 - val_binary_accuracy: 0.8841\n",
      "Epoch 5/20\n",
      "30/30 [==============================] - 1s 27ms/step - loss: 0.1571 - binary_accuracy: 0.9491 - val_loss: 0.3592 - val_binary_accuracy: 0.8574\n",
      "Epoch 6/20\n",
      "30/30 [==============================] - 1s 23ms/step - loss: 0.1348 - binary_accuracy: 0.9571 - val_loss: 0.3452 - val_binary_accuracy: 0.8690\n",
      "Epoch 7/20\n",
      "30/30 [==============================] - 1s 26ms/step - loss: 0.1174 - binary_accuracy: 0.9628 - val_loss: 0.2982 - val_binary_accuracy: 0.8833\n",
      "Epoch 8/20\n",
      "30/30 [==============================] - 1s 23ms/step - loss: 0.0983 - binary_accuracy: 0.9703 - val_loss: 0.3324 - val_binary_accuracy: 0.8786\n",
      "Epoch 9/20\n",
      "30/30 [==============================] - 1s 23ms/step - loss: 0.0832 - binary_accuracy: 0.9767 - val_loss: 0.3300 - val_binary_accuracy: 0.8808\n",
      "Epoch 10/20\n",
      "30/30 [==============================] - 1s 22ms/step - loss: 0.0738 - binary_accuracy: 0.9797 - val_loss: 0.3468 - val_binary_accuracy: 0.8798\n",
      "Epoch 11/20\n",
      "30/30 [==============================] - 1s 20ms/step - loss: 0.0620 - binary_accuracy: 0.9843 - val_loss: 0.3678 - val_binary_accuracy: 0.8776\n",
      "Epoch 12/20\n",
      "30/30 [==============================] - 1s 22ms/step - loss: 0.0524 - binary_accuracy: 0.9867 - val_loss: 0.3875 - val_binary_accuracy: 0.8764\n",
      "Epoch 13/20\n",
      "30/30 [==============================] - 1s 24ms/step - loss: 0.0429 - binary_accuracy: 0.9908 - val_loss: 0.4217 - val_binary_accuracy: 0.8709\n",
      "Epoch 14/20\n",
      "30/30 [==============================] - 1s 23ms/step - loss: 0.0380 - binary_accuracy: 0.9921 - val_loss: 0.4415 - val_binary_accuracy: 0.8733\n",
      "Epoch 15/20\n",
      "30/30 [==============================] - 1s 23ms/step - loss: 0.0316 - binary_accuracy: 0.9936 - val_loss: 0.4575 - val_binary_accuracy: 0.8743\n",
      "Epoch 16/20\n",
      "30/30 [==============================] - 1s 24ms/step - loss: 0.0282 - binary_accuracy: 0.9944 - val_loss: 0.4786 - val_binary_accuracy: 0.8719\n",
      "Epoch 17/20\n",
      "30/30 [==============================] - 1s 26ms/step - loss: 0.0232 - binary_accuracy: 0.9959 - val_loss: 0.5036 - val_binary_accuracy: 0.8706\n",
      "Epoch 18/20\n",
      "30/30 [==============================] - 1s 25ms/step - loss: 0.0162 - binary_accuracy: 0.9987 - val_loss: 0.5255 - val_binary_accuracy: 0.8703\n",
      "Epoch 19/20\n",
      "30/30 [==============================] - 1s 25ms/step - loss: 0.0162 - binary_accuracy: 0.9983 - val_loss: 0.5588 - val_binary_accuracy: 0.8697\n",
      "Epoch 20/20\n",
      "30/30 [==============================] - 1s 23ms/step - loss: 0.0135 - binary_accuracy: 0.9981 - val_loss: 0.5735 - val_binary_accuracy: 0.8695\n"
     ]
    }
   ],
   "source": [
    "history = model.fit(partial_x_train,\n",
    "                   partial_y_train,\n",
    "                   epochs = 20,\n",
    "                   batch_size = 512,\n",
    "                   validation_data = (x_val, y_val))"
   ]
  },
  {
   "cell_type": "markdown",
   "id": "af526070",
   "metadata": {},
   "source": [
    "The `model.fit()` returns a `History` object. This object has a member `history`, which is a dictionary containing data about everything that happened during training."
   ]
  },
  {
   "cell_type": "code",
   "execution_count": 20,
   "id": "8bb0c717",
   "metadata": {},
   "outputs": [
    {
     "data": {
      "text/plain": [
       "dict_keys(['loss', 'binary_accuracy', 'val_loss', 'val_binary_accuracy'])"
      ]
     },
     "execution_count": 20,
     "metadata": {},
     "output_type": "execute_result"
    }
   ],
   "source": [
    "history_dict = history.history\n",
    "history_dict.keys()"
   ]
  },
  {
   "cell_type": "markdown",
   "id": "f757e338",
   "metadata": {},
   "source": [
    "Now we use Matplotlib to plot the training and validation loss, as well as the training and validation accuracy"
   ]
  },
  {
   "cell_type": "code",
   "execution_count": 29,
   "id": "e034ce11",
   "metadata": {},
   "outputs": [
    {
     "data": {
      "image/png": "[encoded data removed]",
      "text/plain": [
       "<Figure size 640x480 with 1 Axes>"
      ]
     },
     "metadata": {},
     "output_type": "display_data"
    }
   ],
   "source": [
    "import matplotlib.pyplot as plt\n",
    "\n",
    "acc = history.history['binary_accuracy']\n",
    "val_acc = history.history['val_binary_accuracy']\n",
    "loss = history.history['loss']\n",
    "val_loss = history.history['val_loss']\n",
    "\n",
    "epochs = range(1, len(acc)+1)\n",
    "\n",
    "plt.plot(epochs, loss, 'bo', label = 'Training loss')\n",
    "plt.plot(epochs, val_loss, 'b', label = 'Validation loss')\n",
    "plt.title('Training and Validation loss')\n",
    "plt.xlabel('Epochs')\n",
    "plt.ylabel('Loss')\n",
    "plt.legend()\n",
    "\n",
    "plt.show()"
   ]
  },
  {
   "cell_type": "code",
   "execution_count": 31,
   "id": "da0d1bfa",
   "metadata": {},
   "outputs": [
    {
     "data": {
      "image/png": "[encoded data removed]",
      "text/plain": [
       "<Figure size 640x480 with 1 Axes>"
      ]
     },
     "metadata": {},
     "output_type": "display_data"
    }
   ],
   "source": [
    "plt.clf() # clear figure\n",
    "\n",
    "acc_values = history_dict['binary_accuracy']\n",
    "val_acc_values = history_dict['val_binary_accuracy']\n",
    "\n",
    "plt.plot(epochs, acc, 'bo', label = 'Training acc')\n",
    "plt.plot(epochs, val_acc, 'b', label = 'Validation acc')\n",
    "plt.title('Training and Validation accuracy')\n",
    "plt.xlabel('Epochs')\n",
    "plt.ylabel('Loss')\n",
    "plt.legend()\n",
    "\n",
    "plt.show()"
   ]
  },
  {
   "cell_type": "markdown",
   "id": "3ace53e4",
   "metadata": {},
   "source": [
    "#### Observation\n",
    "- The training loss decreases with every epoch\n",
    "- The training accuracy increases with every epoch. \n",
    "> When running gradient descent optimization, the quantity you are trying to minimize should get lower with every iteration.\n",
    "- After the second epoch, we are over-optimizing on the training data, and we end up learning representations that are specific to the training data and do not generalize to data outside of the training set.\n",
    "\n",
    "To prevent overfitting, we could stop after three epochs.\n",
    "\n",
    "### Training new network for less number of epochs"
   ]
  },
  {
   "cell_type": "code",
   "execution_count": 32,
   "id": "4ccaf693",
   "metadata": {},
   "outputs": [
    {
     "name": "stdout",
     "output_type": "stream",
     "text": [
      "Epoch 1/4\n",
      "49/49 [==============================] - 3s 15ms/step - loss: 0.5116 - accuracy: 0.8038\n",
      "Epoch 2/4\n",
      "49/49 [==============================] - 1s 14ms/step - loss: 0.3112 - accuracy: 0.8969\n",
      "Epoch 3/4\n",
      "49/49 [==============================] - 1s 13ms/step - loss: 0.2379 - accuracy: 0.9171\n",
      "Epoch 4/4\n",
      "49/49 [==============================] - 1s 13ms/step - loss: 0.2003 - accuracy: 0.9283\n",
      "782/782 [==============================] - 5s 5ms/step - loss: 0.2888 - accuracy: 0.8829\n"
     ]
    }
   ],
   "source": [
    "model = models.Sequential()\n",
    "model.add(layers.Dense(16, activation='relu', input_shape=(10000,)))\n",
    "model.add(layers.Dense(16, activation='relu'))\n",
    "model.add(layers.Dense(1, activation='sigmoid'))\n",
    "\n",
    "model.compile(optimizer='rmsprop',\n",
    "              loss='binary_crossentropy',\n",
    "              metrics=['accuracy'])\n",
    "\n",
    "model.fit(x_train, y_train, epochs=4, batch_size=512)\n",
    "results = model.evaluate(x_test, y_test)"
   ]
  },
  {
   "cell_type": "code",
   "execution_count": 33,
   "id": "96e76c6e",
   "metadata": {},
   "outputs": [
    {
     "data": {
      "text/plain": [
       "[0.28878524899482727, 0.8829200267791748]"
      ]
     },
     "execution_count": 33,
     "metadata": {},
     "output_type": "execute_result"
    }
   ],
   "source": [
    "results\n"
   ]
  },
  {
   "cell_type": "markdown",
   "id": "3f6503ec",
   "metadata": {},
   "source": [
    "The naive approach achieves an accuracy of 88%."
   ]
  },
  {
   "cell_type": "code",
   "execution_count": 34,
   "id": "219e35aa",
   "metadata": {},
   "outputs": [
    {
     "name": "stdout",
     "output_type": "stream",
     "text": [
      "782/782 [==============================] - 7s 7ms/step\n"
     ]
    },
    {
     "data": {
      "text/plain": [
       "array([[0.19471371],\n",
       "       [0.99822867],\n",
       "       [0.67795724],\n",
       "       ...,\n",
       "       [0.07913737],\n",
       "       [0.06661819],\n",
       "       [0.4956097 ]], dtype=float32)"
      ]
     },
     "execution_count": 34,
     "metadata": {},
     "output_type": "execute_result"
    }
   ],
   "source": [
    "model.predict(x_test)"
   ]
  }
 ],
 "metadata": {
  "kernelspec": {
   "display_name": "Python 3 (ipykernel)",
   "language": "python",
   "name": "python3"
  },
  "language_info": {
   "codemirror_mode": {
    "name": "ipython",
    "version": 3
   },
   "file_extension": ".py",
   "mimetype": "text/x-python",
   "name": "python",
   "nbconvert_exporter": "python",
   "pygments_lexer": "ipython3",
   "version": "3.9.13"
  }
 },
 "nbformat": 4,
 "nbformat_minor": 5
}
